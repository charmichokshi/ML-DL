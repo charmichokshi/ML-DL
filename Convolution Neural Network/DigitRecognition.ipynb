{
  "nbformat": 4,
  "nbformat_minor": 0,
  "metadata": {
    "colab": {
      "name": "DigitRecognition.ipynb",
      "version": "0.3.2",
      "provenance": [],
      "collapsed_sections": []
    },
    "kernelspec": {
      "name": "python3",
      "display_name": "Python 3"
    },
    "accelerator": "GPU"
  },
  "cells": [
    {
      "metadata": {
        "id": "lE0APQe8bJzj",
        "colab_type": "text"
      },
      "cell_type": "markdown",
      "source": [
        "#A simple convnet on the MNIST dataset\n",
        "\n",
        "There are 70,000 images in MNIST dataset which are numbers from 0-9 having size 28 X 28 each.\n",
        "Our gole is to create a Convolution Neural Network which can classify these images into one of these 10 classes CORRECTLY!\n",
        "\n",
        "We will build it 7 EASY steps so, let's get started!!\n",
        "\n",
        "![alt text](https://www.researchgate.net/profile/Pew-Thian_Yap/publication/224466484/figure/fig7/AS:302648906534920@1449168530938/Sample-images-from-the-MNIST-handwritten-digits-database.png)\n",
        "\n",
        "\n",
        "\n",
        "This is how Machine will read number 8\n",
        "\n",
        "![alt text](https://cdn-images-1.medium.com/max/800/1*zY1qFB9aFfZz66YxxoI2aw.gif)\n",
        "\n"
      ]
    },
    {
      "metadata": {
        "id": "Q7M6Iw9UdJAa",
        "colab_type": "code",
        "colab": {
          "base_uri": "https://localhost:8080/",
          "height": 34
        },
        "outputId": "9721ee46-e620-47c7-d60b-eadf5c724abd"
      },
      "cell_type": "code",
      "source": [
        "# Import keras, tensorflow and some helpers\n",
        "from __future__ import print_function\n",
        "import keras\n",
        "from keras.datasets import mnist\n",
        "from keras.models import Sequential\n",
        "from keras.layers import Dense, Dropout, Flatten, Activation\n",
        "from keras.layers import Conv2D, MaxPooling2D\n",
        "from keras import backend as K\n",
        "import tensorflow as tf\n",
        "import matplotlib.pyplot as plt\n",
        "import matplotlib.image as mpimg\n",
        "import numpy as np\n",
        "import cv2"
      ],
      "execution_count": 1,
      "outputs": [
        {
          "output_type": "stream",
          "text": [
            "Using TensorFlow backend.\n"
          ],
          "name": "stderr"
        }
      ]
    },
    {
      "metadata": {
        "id": "wyTSGrkBdTAg",
        "colab_type": "text"
      },
      "cell_type": "markdown",
      "source": [
        "# STEP 1: Load image data from MNIST"
      ]
    },
    {
      "metadata": {
        "id": "ETqCO_9efgZ3",
        "colab_type": "code",
        "colab": {
          "base_uri": "https://localhost:8080/",
          "height": 362
        },
        "outputId": "321aec05-3829-4f32-b26d-69ba64e0aa4b"
      },
      "cell_type": "code",
      "source": [
        "# define parameters for NN\n",
        "img_rows, img_cols = 28, 28\n",
        "batch_size = 128\n",
        "num_classes = 10\n",
        "epochs = 12\n",
        "\n",
        "# load data\n",
        "(x_train, y_train), (x_test, y_test) = mnist.load_data()\n",
        "\n",
        "# let's plot 4 images and their labels\n",
        "plt.subplot(221)\n",
        "plt.imshow(x_train[0], cmap=plt.get_cmap('gray'))\n",
        "plt.title(y_train[0])\n",
        "plt.subplot(222)\n",
        "plt.imshow(x_train[1], cmap=plt.get_cmap('gray'))\n",
        "plt.title(y_train[1])\n",
        "plt.subplot(223)\n",
        "plt.imshow(x_train[2], cmap=plt.get_cmap('gray'))\n",
        "plt.title(y_train[2])\n",
        "plt.subplot(224)\n",
        "plt.imshow(x_train[3], cmap=plt.get_cmap('gray'))\n",
        "plt.title(y_train[3])\n",
        "plt.show()"
      ],
      "execution_count": 2,
      "outputs": [
        {
          "output_type": "display_data",
          "data": {
            "image/png": "[encoded data removed]",
            "text/plain": [
              "<matplotlib.figure.Figure at 0x7f25b7b2d390>"
            ]
          },
          "metadata": {
            "tags": []
          }
        }
      ]
    },
    {
      "metadata": {
        "id": "VkVCc3ujswWj",
        "colab_type": "text"
      },
      "cell_type": "markdown",
      "source": [
        "# STEP 2: Preprocess input data for Keras\n",
        "\n",
        "1. Reshape\n",
        "2. Convert our data type to float32 \n",
        "3. Normalize our data values to the range [0, 1]\n"
      ]
    },
    {
      "metadata": {
        "id": "kwov12yofkD8",
        "colab_type": "code",
        "colab": {}
      },
      "cell_type": "code",
      "source": [
        "if K.image_data_format() == 'channels_first':\n",
        "    x_train = x_train.reshape(x_train.shape[0], 1, img_rows, img_cols)\n",
        "    x_test = x_test.reshape(x_test.shape[0], 1, img_rows, img_cols)\n",
        "    input_shape = (1, img_rows, img_cols)\n",
        "else:\n",
        "    x_train = x_train.reshape(x_train.shape[0], img_rows, img_cols, 1)\n",
        "    x_test = x_test.reshape(x_test.shape[0], img_rows, img_cols, 1)\n",
        "    input_shape = (img_rows, img_cols, 1)\n",
        "\n",
        "x_train = x_train.astype('float32')\n",
        "x_test = x_test.astype('float32')\n",
        "x_train /= 255\n",
        "x_test /= 255   "
      ],
      "execution_count": 0,
      "outputs": []
    },
    {
      "metadata": {
        "id": "jm1rclgYtdzG",
        "colab_type": "text"
      },
      "cell_type": "markdown",
      "source": [
        " # STEP 3: Preprocess class labels for Keras\n",
        "\n",
        "One hot encoding"
      ]
    },
    {
      "metadata": {
        "id": "dGyp9AyRfkHv",
        "colab_type": "code",
        "colab": {}
      },
      "cell_type": "code",
      "source": [
        "y_train = keras.utils.to_categorical(y_train, num_classes)\n",
        "y_test = keras.utils.to_categorical(y_test, num_classes)"
      ],
      "execution_count": 0,
      "outputs": []
    },
    {
      "metadata": {
        "id": "_4Z-HnQPtyXd",
        "colab_type": "text"
      },
      "cell_type": "markdown",
      "source": [
        "# STEP 4: Define model architecture\n",
        "\n",
        "\n"
      ]
    },
    {
      "metadata": {
        "id": "EgrQgYOQfkKn",
        "colab_type": "code",
        "colab": {
          "base_uri": "https://localhost:8080/",
          "height": 425
        },
        "outputId": "b9f1a8c7-252b-4cf2-c4fa-c2515b03ad9b"
      },
      "cell_type": "code",
      "source": [
        "# Keras automatically handles the connections between layers.\n",
        "model = Sequential()\n",
        "\n",
        "# number of kernel: 32 | Size: 3 X 3 | Activation function: Relu\n",
        "model.add(Conv2D(32, kernel_size=(3, 3),\n",
        "                 activation='relu',\n",
        "                 input_shape=input_shape))\n",
        "\n",
        "# add more layers\n",
        "model.add(Conv2D(64, (3, 3), activation='relu'))      \n",
        "model.add(MaxPooling2D(pool_size=(2, 2)))\n",
        "\n",
        "# regularizing our model in order to prevent overfitting\n",
        "model.add(Dropout(0.25))\n",
        "\n",
        "# fully connected layer (1-D)\n",
        "model.add(Flatten())\n",
        "\n",
        "model.add(Dense(128, activation='relu'))\n",
        "model.add(Dropout(0.5))\n",
        "\n",
        "# the final layer has an output size of 10, corresponding to the 10 classes of digits\n",
        "model.add(Dense(num_classes, activation='softmax'))\n",
        "\n",
        "print(model.summary())"
      ],
      "execution_count": 5,
      "outputs": [
        {
          "output_type": "stream",
          "text": [
            "_________________________________________________________________\n",
            "Layer (type)                 Output Shape              Param #   \n",
            "=================================================================\n",
            "conv2d_1 (Conv2D)            (None, 26, 26, 32)        320       \n",
            "_________________________________________________________________\n",
            "conv2d_2 (Conv2D)            (None, 24, 24, 64)        18496     \n",
            "_________________________________________________________________\n",
            "max_pooling2d_1 (MaxPooling2 (None, 12, 12, 64)        0         \n",
            "_________________________________________________________________\n",
            "dropout_1 (Dropout)          (None, 12, 12, 64)        0         \n",
            "_________________________________________________________________\n",
            "flatten_1 (Flatten)          (None, 9216)              0         \n",
            "_________________________________________________________________\n",
            "dense_1 (Dense)              (None, 128)               1179776   \n",
            "_________________________________________________________________\n",
            "dropout_2 (Dropout)          (None, 128)               0         \n",
            "_________________________________________________________________\n",
            "dense_2 (Dense)              (None, 10)                1290      \n",
            "=================================================================\n",
            "Total params: 1,199,882\n",
            "Trainable params: 1,199,882\n",
            "Non-trainable params: 0\n",
            "_________________________________________________________________\n",
            "None\n"
          ],
          "name": "stdout"
        }
      ]
    },
    {
      "metadata": {
        "id": "1Ma_GjCosZ0d",
        "colab_type": "text"
      },
      "cell_type": "markdown",
      "source": [
        "# STEP 5:  Compile model\n"
      ]
    },
    {
      "metadata": {
        "id": "qzCe941OfkOY",
        "colab_type": "code",
        "colab": {}
      },
      "cell_type": "code",
      "source": [
        "model.compile(loss=keras.losses.categorical_crossentropy,\n",
        "              optimizer=keras.optimizers.Adadelta(),\n",
        "              metrics=['accuracy'])"
      ],
      "execution_count": 0,
      "outputs": []
    },
    {
      "metadata": {
        "id": "wy0wYGHVxP9P",
        "colab_type": "text"
      },
      "cell_type": "markdown",
      "source": [
        "# ![alt text](https://cdn-images-1.medium.com/max/800/1*bGBijVuJnTRj8025et0mcQ.gif)"
      ]
    },
    {
      "metadata": {
        "id": "ys9N6ZP-uioo",
        "colab_type": "text"
      },
      "cell_type": "markdown",
      "source": [
        "# STEP 6: Fit model on 60k training and Validate it on 10k images\n"
      ]
    },
    {
      "metadata": {
        "id": "ywozxqf_fkGq",
        "colab_type": "code",
        "colab": {
          "base_uri": "https://localhost:8080/",
          "height": 442
        },
        "outputId": "3978c458-3bb5-4342-b888-2568db8b1f2e"
      },
      "cell_type": "code",
      "source": [
        "history = model.fit(x_train, y_train,\n",
        "          batch_size=batch_size,\n",
        "          epochs=epochs,\n",
        "          verbose=1,\n",
        "          validation_data=(x_test, y_test))"
      ],
      "execution_count": 7,
      "outputs": [
        {
          "output_type": "stream",
          "text": [
            "Train on 60000 samples, validate on 10000 samples\n",
            "Epoch 1/12\n",
            "60000/60000 [==============================] - 12s 195us/step - loss: 0.2645 - acc: 0.9185 - val_loss: 0.0565 - val_acc: 0.9817\n",
            "Epoch 2/12\n",
            "60000/60000 [==============================] - 10s 164us/step - loss: 0.0870 - acc: 0.9746 - val_loss: 0.0411 - val_acc: 0.9858\n",
            "Epoch 3/12\n",
            "60000/60000 [==============================] - 10s 165us/step - loss: 0.0646 - acc: 0.9804 - val_loss: 0.0347 - val_acc: 0.9885\n",
            "Epoch 4/12\n",
            "60000/60000 [==============================] - 10s 165us/step - loss: 0.0502 - acc: 0.9851 - val_loss: 0.0344 - val_acc: 0.9888\n",
            "Epoch 5/12\n",
            "60000/60000 [==============================] - 10s 165us/step - loss: 0.0457 - acc: 0.9861 - val_loss: 0.0288 - val_acc: 0.9905\n",
            "Epoch 6/12\n",
            "60000/60000 [==============================] - 10s 164us/step - loss: 0.0405 - acc: 0.9868 - val_loss: 0.0291 - val_acc: 0.9910\n",
            "Epoch 7/12\n",
            "60000/60000 [==============================] - 10s 169us/step - loss: 0.0358 - acc: 0.9893 - val_loss: 0.0282 - val_acc: 0.9913\n",
            "Epoch 8/12\n",
            "60000/60000 [==============================] - 10s 169us/step - loss: 0.0330 - acc: 0.9897 - val_loss: 0.0282 - val_acc: 0.9918\n",
            "Epoch 9/12\n",
            "60000/60000 [==============================] - 10s 165us/step - loss: 0.0275 - acc: 0.9918 - val_loss: 0.0278 - val_acc: 0.9909\n",
            "Epoch 10/12\n",
            "60000/60000 [==============================] - 10s 165us/step - loss: 0.0301 - acc: 0.9907 - val_loss: 0.0294 - val_acc: 0.9910\n",
            "Epoch 11/12\n",
            "60000/60000 [==============================] - 10s 164us/step - loss: 0.0270 - acc: 0.9918 - val_loss: 0.0275 - val_acc: 0.9914\n",
            "Epoch 12/12\n",
            "60000/60000 [==============================] - 10s 164us/step - loss: 0.0256 - acc: 0.9922 - val_loss: 0.0273 - val_acc: 0.9912\n"
          ],
          "name": "stdout"
        }
      ]
    },
    {
      "metadata": {
        "id": "kIUDnjVS1YrS",
        "colab_type": "text"
      },
      "cell_type": "markdown",
      "source": [
        "# STEP: 7 Evaluate model on test data\n"
      ]
    },
    {
      "metadata": {
        "id": "DovM4AWU1Vp2",
        "colab_type": "code",
        "colab": {
          "base_uri": "https://localhost:8080/",
          "height": 51
        },
        "outputId": "4fa3eee2-c168-44fc-c243-a47f3d38e3bb"
      },
      "cell_type": "code",
      "source": [
        "score = model.evaluate(x_test, y_test, verbose=0)\n",
        "print('Test loss:', score[0])\n",
        "print('Test accuracy:', score[1])"
      ],
      "execution_count": 11,
      "outputs": [
        {
          "output_type": "stream",
          "text": [
            "Test loss: 0.027320699112841067\n",
            "Test accuracy: 0.9912\n"
          ],
          "name": "stdout"
        }
      ]
    },
    {
      "metadata": {
        "id": "3EfQs6UFu88i",
        "colab_type": "text"
      },
      "cell_type": "markdown",
      "source": [
        "# Test it on own image!!\n",
        "\n",
        "1. Create an image in paint\n",
        "2. Upload it here\n",
        "3. Pre-process it\n",
        "4. Evaluate on our model"
      ]
    },
    {
      "metadata": {
        "id": "XUVo5DhEoYbK",
        "colab_type": "code",
        "colab": {
          "base_uri": "https://localhost:8080/",
          "height": 362
        },
        "outputId": "4d178c56-f7e6-4d6e-c988-5b9c60d93d4d"
      },
      "cell_type": "code",
      "source": [
        "import cv2\n",
        "img = mpimg.imread('1.png')     # read image\n",
        "label = np.array([4])    # assign corect label to it\n",
        "\n",
        "# plot input image and label\n",
        "plt.imshow(img, cmap=plt.get_cmap('gray'))\n",
        "plt.title(label)\n",
        "\n",
        "# pre-process\n",
        "img = cv2.resize(img,(28,28))\n",
        "img = img[:,:,0]\n",
        "img = img.reshape(1, 28, 28,1)\n",
        "\n",
        "label = keras.utils.to_categorical(label, num_classes)"
      ],
      "execution_count": 22,
      "outputs": [
        {
          "output_type": "display_data",
          "data": {
            "image/png": "[encoded data removed]",
            "text/plain": [
              "<matplotlib.figure.Figure at 0x7f2523082cc0>"
            ]
          },
          "metadata": {
            "tags": []
          }
        }
      ]
    },
    {
      "metadata": {
        "id": "faTmf-G9j06Y",
        "colab_type": "code",
        "colab": {
          "base_uri": "https://localhost:8080/",
          "height": 68
        },
        "outputId": "ec984003-c0a1-4ee7-9ac9-7aba218aa24e"
      },
      "cell_type": "code",
      "source": [
        "# evalute on our model\n",
        "score = model.evaluate(img, label, verbose=0)\n",
        "print('Test loss:', score[0])\n",
        "print('Test accuracy:', score[1])\n",
        "\n",
        "pred = model.predict(img)\n",
        "predicted = np.argmax(pred, axis=1)\n",
        "print(\"Predicted Output: \", predicted)"
      ],
      "execution_count": 23,
      "outputs": [
        {
          "output_type": "stream",
          "text": [
            "Test loss: 0.20087973773479462\n",
            "Test accuracy: 1.0\n",
            "Predicted Output:  [4]\n"
          ],
          "name": "stdout"
        }
      ]
    },
    {
      "metadata": {
        "id": "xGTjoHDOwzwR",
        "colab_type": "text"
      },
      "cell_type": "markdown",
      "source": [
        "# Visualization of Model Accuracy and Loss"
      ]
    },
    {
      "metadata": {
        "id": "UNwT7CiqlBe4",
        "colab_type": "code",
        "colab": {
          "base_uri": "https://localhost:8080/",
          "height": 376
        },
        "outputId": "d4096deb-8b0b-4e68-fdd7-2307b99fe213"
      },
      "cell_type": "code",
      "source": [
        "plt.plot(history.history[\"acc\"])\n",
        "plt.plot(history.history[\"val_acc\"])\n",
        "plt.title(\"Model Accuracy\")\n",
        "plt.xlabel(\"Epoch\")\n",
        "plt.ylabel(\"Accuracy\")\n",
        "plt.legend([\"train\", \"validation\"], loc=\"upper left\")\n",
        "plt.show()"
      ],
      "execution_count": 24,
      "outputs": [
        {
          "output_type": "display_data",
          "data": {
            "image/png": "[encoded data removed]",
            "text/plain": [
              "<matplotlib.figure.Figure at 0x7f252305d5c0>"
            ]
          },
          "metadata": {
            "tags": []
          }
        }
      ]
    },
    {
      "metadata": {
        "id": "5L3M05o7nE1d",
        "colab_type": "code",
        "colab": {
          "base_uri": "https://localhost:8080/",
          "height": 376
        },
        "outputId": "ae3fe8eb-8571-4310-9b61-adfa4f552628"
      },
      "cell_type": "code",
      "source": [
        "plt.plot(history.history[\"loss\"])\n",
        "plt.plot(history.history[\"val_loss\"])\n",
        "plt.title(\"Model Loss\")\n",
        "plt.xlabel(\"Epoch\")\n",
        "plt.ylabel(\"Loss\")\n",
        "plt.legend([\"train\", \"validation\"], loc=\"upper left\")\n",
        "plt.show()"
      ],
      "execution_count": 25,
      "outputs": [
        {
          "output_type": "display_data",
          "data": {
            "image/png": "[encoded data removed]",
            "text/plain": [
              "<matplotlib.figure.Figure at 0x7f252243e438>"
            ]
          },
          "metadata": {
            "tags": []
          }
        }
      ]
    }
  ]
}
